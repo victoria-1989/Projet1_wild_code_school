{
  "nbformat": 4,
  "nbformat_minor": 0,
  "metadata": {
    "colab": {
      "provenance": [],
      "include_colab_link": true
    },
    "kernelspec": {
      "name": "python3",
      "display_name": "Python 3"
    },
    "language_info": {
      "name": "python"
    }
  },
  "cells": [
    {
      "cell_type": "markdown",
      "metadata": {
        "id": "view-in-github",
        "colab_type": "text"
      },
      "source": [
        "<a href=\"https://colab.research.google.com/github/victoria-1989/Projet1_wild_code_school/blob/main/Projet_1.ipynb\" target=\"_parent\"><img src=\"https://colab.research.google.com/assets/colab-badge.svg\" alt=\"Open In Colab\"/></a>"
      ]
    },
    {
      "cell_type": "markdown",
      "source": [
        "KPI Ventes"
      ],
      "metadata": {
        "id": "wbdUY5W7WydS"
      }
    },
    {
      "cell_type": "code",
      "execution_count": null,
      "metadata": {
        "id": "b7hDUztoWsm0"
      },
      "outputs": [],
      "source": [
        "WITH prec_mois_table AS(\n",
        "SELECT P.productLine,\n",
        "YEAR(O.orderDate) AS Annee,\n",
        "MONTH(O.orderDate) AS Mois,\n",
        "DATE_FORMAT(O.orderDate, '%Y-%m') AS Periode,\n",
        "sum(quantityOrdered) AS nombre_produits_vendus\n",
        "FROM orders O\n",
        "LEFT JOIN orderdetails OD ON O.orderNumber = OD.orderNumber\n",
        "LEFT JOIN products P ON OD.productCode=P.productCode WHERE status=\"shipped\" OR status=\"resolved\"\n",
        "GROUP BY productLine,Periode,Annee,Mois ORDER BY Periode,productLine,nombre_produits_vendus DESC)\n",
        "\n",
        "SELECT p1.productLine,p1.Annee,p1.Mois,p1.Periode,p1.nombre_produits_vendus,\n",
        "p2.Annee,p2.Mois,p2.Periode,p2.nombre_produits_vendus\n",
        "FROM prec_mois_table AS p1\n",
        "LEFT JOIN prec_mois_table AS p2 ON p1.productLine=p2.productLine AND p1.Annee=p2.Annee+1 AND p1.Mois=p2.Mois"
      ]
    },
    {
      "cell_type": "markdown",
      "source": [
        "KPI Finances"
      ],
      "metadata": {
        "id": "pqCusqykW8eF"
      }
    },
    {
      "cell_type": "markdown",
      "source": [
        "Nota bene : parfois les indicateurs métiers ne sont pas techniquement réalisables. C'est à vous de l'expliquer, et d'apporter vos propres idées pour répondre aux besoins de l'entreprise."
      ],
      "metadata": {
        "id": "zGmmFXUPo6im"
      }
    },
    {
      "cell_type": "markdown",
      "source": [
        "Le chiffre d'affaires des commandes des deux derniers mois par pays:"
      ],
      "metadata": {
        "id": "OLzVq0owpEXZ"
      }
    },
    {
      "cell_type": "code",
      "source": [
        "# Nous n'avons pas toutes les données pour répondre à cette question. Mais nous pouvons le réaliser sur une année.\n",
        "SELECT MONTH (o.orderDate) AS month,\n",
        "YEAR (o.orderDate) AS year,\n",
        "country,\n",
        "SUM(p.amount) AS CA\n",
        "FROM payments p\n",
        "JOIN customers c ON c.customerNumber = p.customerNumber\n",
        "JOIN orders o ON o.customerNumber = c.customerNumber\n",
        "GROUP BY country, month, year\n",
        "ORDER BY year, month"
      ],
      "metadata": {
        "id": "hhQRqxXJpG-I"
      },
      "execution_count": null,
      "outputs": []
    },
    {
      "cell_type": "code",
      "source": [
        "# KPI CA\n",
        "WITH ca_global AS(\n",
        "SELECT\n",
        "YEAR (p.paymentDate) AS year,\n",
        "MONTH (p.paymentDate) AS month,\n",
        "country,\n",
        "SUM(p.amount) AS CA\n",
        "FROM payments p\n",
        "JOIN customers c ON c.customerNumber = p.customerNumber\n",
        "GROUP BY country, year, month\n",
        "ORDER BY country, year)\n",
        "\n",
        ", taux_global AS(\n",
        "SELECT *,\n",
        "LAG(CA) OVER ( partition by country ORDER BY year) AS CA_global_moinN\n",
        "FROM ca_global)\n",
        "\n",
        "SELECT *,\n",
        "ROUND((((CA - CA_global_moinN)/CA_global_moinN)),4) AS evolution\n",
        "FROM taux_global\n",
        "\n",
        "#KPI CA evolution\n",
        "WITH ca_global AS(\n",
        "SELECT\n",
        "YEAR (p.paymentDate) AS year,\n",
        "country,\n",
        "SUM(p.amount) AS CA\n",
        "FROM payments p\n",
        "JOIN customers c ON c.customerNumber = p.customerNumber\n",
        "GROUP BY country, year\n",
        "ORDER BY country, year)\n",
        "\n",
        ", taux_global AS(\n",
        "SELECT *,\n",
        "LAG(CA) OVER ( partition by country ORDER BY year) AS CA_global_moinN\n",
        "FROM ca_global)\n",
        "\n",
        "SELECT *,\n",
        "ROUND((((CA - CA_global_moinN)/CA_global_moinN)),2) AS evolution\n",
        "FROM taux_global"
      ],
      "metadata": {
        "id": "7kGbsHZaO5CZ"
      },
      "execution_count": null,
      "outputs": []
    },
    {
      "cell_type": "code",
      "source": [
        "\"\"\"Problématique et conseil\n",
        "Il faudrait rattacher la table paiment à la table order, pour avoir un meilleur tracking des données et donc mieux centraliser et utiliser les données les données."
      ],
      "metadata": {
        "id": "9T5J_3Jzc9M0"
      },
      "execution_count": null,
      "outputs": []
    },
    {
      "cell_type": "markdown",
      "source": [
        "Commandes qui n'ont pas encore été payées - On peut sortir le montant par client on ne peut pas faire ressortir les numéros de commande"
      ],
      "metadata": {
        "id": "tQPKQ93Fo8Yi"
      }
    },
    {
      "cell_type": "code",
      "source": [
        "WITH table_temp AS (\n",
        "\n",
        "SELECT sum(quantityOrdered*priceEach) AS Montant_commande,o.customerNumber,c.customerName AS nomclient,c.salesRepEmployeeNumber AS referent\n",
        "FROM orderdetails od\n",
        "JOIN orders o ON od.orderNumber = o.orderNumber\n",
        "JOIN customers c ON o.customerNumber = c.customerNumber\n",
        "GROUP BY customerNumber),\n",
        "\n",
        "payment_customer AS (\n",
        "\n",
        "SELECT customerNumber, sum(amount) AS Commande_payee\n",
        "FROM payments\n",
        "GROUP BY customerNumber)\n",
        "\n",
        "\n",
        "SELECT table_temp.customerNumber,\n",
        "table_temp.nomclient,\n",
        "table_temp.referent,\n",
        "table_temp.Montant_commande,\n",
        "payment_customer.Commande_payee,\n",
        "table_temp.Montant_commande - payment_customer.Commande_payee AS Difference\n",
        "FROM table_temp\n",
        "JOIN payment_customer ON table_temp.customerNumber = payment_customer.customerNumber\n",
        "WHERE table_temp.Montant_commande<>payment_customer.Commande_payee"
      ],
      "metadata": {
        "id": "0TCd6yOAXHBS"
      },
      "execution_count": null,
      "outputs": []
    },
    {
      "cell_type": "markdown",
      "source": [
        "KPI Logistiques\n",
        "\n",
        "Recherche des 5 produits les plus commandés et une jointure pour retrouver les références par productCode"
      ],
      "metadata": {
        "id": "8RJj3MhyW_sQ"
      }
    },
    {
      "cell_type": "code",
      "source": [
        "SELECT p.productCode, p.productName, p.quantityInStock, SUM(od.quantityOrdered) AS totalOrdered\n",
        "FROM products p\n",
        "JOIN orderdetails od ON p.productCode = od.productCode\n",
        "GROUP BY p.productCode, p.productName, p.quantityInStock\n",
        "ORDER BY totalOrdered DESC\n",
        "LIMIT 5;\n"
      ],
      "metadata": {
        "id": "eCTuA9a6SCnt"
      },
      "execution_count": null,
      "outputs": []
    },
    {
      "cell_type": "markdown",
      "source": [
        "Recherche des 5 produits les moins commandés et une jointure pour retrouver les références par productCode"
      ],
      "metadata": {
        "id": "m9izpUiZSUxD"
      }
    },
    {
      "cell_type": "code",
      "source": [
        "SELECT p.productCode, p.productName, p.quantityInStock, SUM(od.quantityOrdered) AS totalOrdered\n",
        "FROM products p\n",
        "JOIN orderdetails od ON p.productCode = od.productCode\n",
        "GROUP BY p.productCode, p.productName, p.quantityInStock\n",
        "ORDER BY totalOrdered ASC\n",
        "LIMIT 5;\n"
      ],
      "metadata": {
        "id": "QPFoBexASZ_d"
      },
      "execution_count": null,
      "outputs": []
    },
    {
      "cell_type": "markdown",
      "source": [
        "KPI Ressources Humaines"
      ],
      "metadata": {
        "id": "0lw-NKa2XDsq"
      }
    },
    {
      "cell_type": "code",
      "source": [
        "#KPI RH\n",
        "WITH top_employee AS (\n",
        "SELECT MONTH (p.paymentDate) AS month,\n",
        "YEAR (p.paymentDate) AS year,\n",
        "CONCAT (e.firstname, \" \", e.lastname) AS name,\n",
        "ROUND (SUM(p.amount),0) AS CA,\n",
        "e.officeCode, employeeNumber, reportsTo\n",
        "FROM payments p\n",
        "JOIN customers c ON p.customerNumber = c.customerNumber\n",
        "JOIN employees e ON c.salesRepEmployeeNumber = e.employeeNumber\n",
        "GROUP BY name,month, year, officeCode, employeeNumber, reportsTo\n",
        "ORDER BY CA DESC)\n",
        "\n",
        "SELECT *,\n",
        "city\n",
        "from top_employee\n",
        "join offices on top_employee.officeCode = offices.officeCode\n",
        "\n",
        "#KPI RH Name manager\n",
        "with name_report AS (\n",
        "SELECT e.reportsTO,\n",
        "CONCAT (e2.firstname, \" \", e2.lastname) AS name_manager\n",
        "FROM employees e\n",
        "LEFT JOIN employees e2 ON e2.`employeeNumber` = e.`reportsTo`)\n",
        "\n",
        "SELECT *\n",
        "FROM name_report"
      ],
      "metadata": {
        "id": "aL1C5Q7BXJSO"
      },
      "execution_count": null,
      "outputs": []
    }
  ]
}